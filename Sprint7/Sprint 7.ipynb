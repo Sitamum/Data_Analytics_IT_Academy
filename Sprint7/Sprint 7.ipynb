{
 "cells": [
  {
   "cell_type": "markdown",
   "id": "ff700660",
   "metadata": {},
   "source": [
    "# NIVEL 1"
   ]
  },
  {
   "cell_type": "markdown",
   "id": "df2fbe25",
   "metadata": {},
   "source": [
    "## Exercici 1"
   ]
  },
  {
   "cell_type": "markdown",
   "id": "dc3f2e21",
   "metadata": {},
   "source": [
    "Calculadora de l'índex de massa corporal\n",
    "Escriu una funció que calculi l'IMC ingressat per l'usuari/ària, és a dir, qui ho executi haurà d'ingressar aquestes dades. Pots obtenir més informació del seu càlcul en:\n",
    "-> Índice de masa corporal IMC que es y como se calcula.\n",
    "La funció ha de classificar el resultat en les seves respectives categories"
   ]
  },
  {
   "cell_type": "markdown",
   "id": "5add755d",
   "metadata": {},
   "source": [
    "IMC es necesario dividir el peso en kg de un paciente entre el cuadrado de su altura en metros.\n",
    "Bajo peso: menos de 18,5.\n",
    "Peso normal: 18,5-24,9.\n",
    "Sobrepeso: 25-29,9.\n",
    "Obesidad: más de 30."
   ]
  },
  {
   "cell_type": "code",
   "execution_count": 2,
   "id": "5eb4409d",
   "metadata": {},
   "outputs": [
    {
     "name": "stdout",
     "output_type": "stream",
     "text": [
      "¿Cúanto pesas en Kgs?:ñ\n",
      "El peso debe ser número decimal e utilizando el . para indicar decimales\n",
      "¿Cúanto pesas en Kgs?:23.2\n",
      "¿Cúanto mides en metros?:ñ\n",
      "La altura deben ser números decimales e utilizando el . para indicar decimales\n",
      "¿Cúanto mides en metros?:1.36\n",
      "Tu IMC indica que tienes bajo peso.\n"
     ]
    }
   ],
   "source": [
    "def calc_imc (peso, altura): \n",
    "    imc = round (peso/pow(altura,2),1)\n",
    "    if imc > 29.9 :\n",
    "        print (f\" Tu IMC es {imc}, indica que tienes obesidad.\")\n",
    "    elif imc >= 25 and imc <= 29.9:\n",
    "        print (f\" Tu IMC es {imc}, indica que tienes sobrepeso.\")\n",
    "    elif imc >= 18.5 and imc < 25:\n",
    "        print (f\" Tu IMC es {imc}, indica que tu peso es normal.\")\n",
    "    else:\n",
    "        print (\"Tu IMC indica que tienes bajo peso.\")            \n",
    "    \n",
    "altura_check = False\n",
    "peso_check = False\n",
    "    \n",
    "while peso_check  == False:\n",
    "    try:\n",
    "        peso_us = float(input(\"¿Cúanto pesas en Kgs?:\"))\n",
    "        peso_check = True\n",
    "    except ValueError:\n",
    "        print(\"El peso debe ser número decimal e utilizando el . para indicar decimales\")\n",
    "while altura_check == False:\n",
    "    try:\n",
    "        altura_us = float(input(\"¿Cúanto mides en metros?:\"))\n",
    "        altura_check = True\n",
    "    except ValueError:\n",
    "        print(\"La altura deben ser números decimales e utilizando el . para indicar decimales\")\n",
    "\n",
    "calc_imc (peso_us , altura_us)"
   ]
  },
  {
   "cell_type": "markdown",
   "id": "fb350ec3",
   "metadata": {},
   "source": [
    "## Exercici 2"
   ]
  },
  {
   "cell_type": "markdown",
   "id": "165527a6",
   "metadata": {},
   "source": [
    "Existeixen diverses unitats de temperatura utilitzades en diferents contextos i regions. Les més comunes són Celsius (°C), Fahrenheit (°F) i Kelvin (K). També existeixen altres unitats com Rankine (°Ra) i Réaumur (°Re). Selecciona almenys 2 conversors, de tal manera que en introduir una temperatura retorni, com a mínim, dues conversions."
   ]
  },
  {
   "cell_type": "code",
   "execution_count": 11,
   "id": "72367012",
   "metadata": {
    "scrolled": true
   },
   "outputs": [
    {
     "name": "stdout",
     "output_type": "stream",
     "text": [
      "¿Qué unidad de temperatura quieres convertir?\n",
      " elige entre:\n",
      " Celsius : C\n",
      " Fahrenheit : F\n",
      " Kelvin : K\n",
      "f\n",
      "¿Qué valor de temperatura tienes?\n",
      "24.2\n",
      "Tus 24.2º Fahrenheit corresponden a 483.87º Rankine y a -3.47º Reamur\n"
     ]
    }
   ],
   "source": [
    "def conversor (unidades, cantidad):\n",
    "    tipo_temperatura = \"\"\n",
    "    temperatura_Rankine = 0\n",
    "    temperatura_Reaumur = 0\n",
    "    if unidades == \"C\":\n",
    "        tipo_temperatura = \"Celsius\"\n",
    "        temperatura_Rankine = round(cantidad*9/5+ 491.67,2)\n",
    "        temperatura_Reaumur = round(cantidad*1.25,2)\n",
    "    elif unidades == \"F\":\n",
    "        tipo_temperatura =\"Fahrenheit\"\n",
    "        temperatura_Rankine = round(cantidad + 459.67,2)\n",
    "        temperatura_Reaumur = round((cantidad - 32) / 2.25000002,2)\n",
    "    elif unidades == \"K\":\n",
    "        tipo_temperatura = \"Kelvin\"\n",
    "        temperatura_Rankine = round(((cantidad - 273.15) * 1.8) + 491.67,2)\n",
    "        temperatura_Reaumur = (cantidad * 1.25) + 273.15\n",
    "    else:\n",
    "         print(\"por favor, elige entre C, F o K\")\n",
    "\n",
    "    print(f\"Tus {cantidad_intro}º {tipo_temperatura} corresponden a {temperatura_Rankine}º Rankine y a {temperatura_Reaumur}º Reamur\")    \n",
    "\n",
    "check_unidades = False\n",
    "while check_unidades == False:\n",
    "    try:\n",
    "        unidades_intro = input( \"¿Qué unidad de temperatura quieres convertir?\\n elige entre:\\n Celsius : C\\n Fahrenheit : F\\n Kelvin : K\\n\").upper()\n",
    "        check_unidades = True\n",
    "    except:\n",
    "        print (\"por favor, elige entre C para Celsius, F para Fahrenheit y K para Kelvin\")\n",
    "\n",
    "check_cantidad = False\n",
    "while check_cantidad == False:\n",
    "    try:\n",
    "        cantidad_intro = float(input( \"¿Qué valor de temperatura tienes?\\n\"))\n",
    "        check_cantidad = True\n",
    "    except ValueError:\n",
    "            print (\"por favor, introduce un valor númerico indicando los decimales con un \"\"punto\"\".\")\n",
    "\n",
    "    \n",
    "conversor(unidades_intro,cantidad_intro)  "
   ]
  },
  {
   "cell_type": "markdown",
   "id": "4d08127f",
   "metadata": {},
   "source": [
    "## Exercici 3"
   ]
  },
  {
   "cell_type": "markdown",
   "id": "bb67ca55",
   "metadata": {},
   "source": [
    "Comptador de paraules d'un text.\n",
    "\n",
    "Escriu una funció que donat un text, mostri les vegades que apareix cada paraula."
   ]
  },
  {
   "cell_type": "code",
   "execution_count": 6,
   "id": "d744e7e5",
   "metadata": {},
   "outputs": [
    {
     "name": "stdout",
     "output_type": "stream",
     "text": [
      "introduce aquí el texto que quieres convertir:\n",
      "todo los quieeras , se puesde\n"
     ]
    },
    {
     "data": {
      "text/plain": [
       "{'todo': 1, 'los': 1, 'quieeras': 1, 'se': 1, 'puesde': 1}"
      ]
     },
     "execution_count": 6,
     "metadata": {},
     "output_type": "execute_result"
    }
   ],
   "source": [
    "texto = input(\"introduce aquí el texto que quieres convertir:\\n\")\n",
    "\n",
    "def contador_palabras(texto): \n",
    "    lista = texto.lower().split()\n",
    "    # print (lista)\n",
    "    dici = {}\n",
    "    punt = [\",\", \".\", \"¿\",\",\", \":\",\";\"]\n",
    "    for char in lista:\n",
    "        # print (char)\n",
    "        if char not in punt:\n",
    "            dici[char] = lista.count(char)\n",
    "        else:\n",
    "            continue\n",
    "    return dici  \n",
    "    \n",
    "contador_palabras(texto) \n",
    "   "
   ]
  },
  {
   "cell_type": "markdown",
   "id": "712223c0",
   "metadata": {},
   "source": [
    "# Exercici 4"
   ]
  },
  {
   "cell_type": "markdown",
   "id": "572b4a18",
   "metadata": {},
   "source": [
    "Diccionari invers.\n",
    "\n",
    "Resulta que el client té una enquesta molt antiga que s'emmagatzema en un diccionari i els resultats els necessita al revés, és a dir, intercanviats les claus i els valors. Els valors i claus en el diccionari original són únics; si aquest no és el cas, la funció hauria d'imprimir un missatge d'advertiment."
   ]
  },
  {
   "cell_type": "code",
   "execution_count": 4,
   "id": "a1bc8cee",
   "metadata": {},
   "outputs": [
    {
     "data": {
      "text/plain": [
       "{1: 'a', 2: 'b', 3: 'c', 4: 'd', 5: 'e', 6: 'f'}"
      ]
     },
     "execution_count": 4,
     "metadata": {},
     "output_type": "execute_result"
    }
   ],
   "source": [
    "text1 = {'a':1,'b':2,'c':3,'d':4,'e':5,'f':6}\n",
    "text2 = {'x':'apple','y':'banana','z':'banana'}\n",
    "def reverse_diccionari(text):\n",
    "    key_list_reverse = []\n",
    "    value_list_reverse = []\n",
    "    diccionari = {}\n",
    "    key_list_reverse = list(text.keys())\n",
    "    value_list_reverse = list(text.values())\n",
    "\n",
    "    for i in range(0,len(value_list_reverse)):\n",
    "        if value_list_reverse.count(value_list_reverse[i]) > 1: \n",
    "             return \"Error: multiple keys for one value \"            \n",
    "        else:\n",
    "            diccionari[value_list_reverse[i]] = key_list_reverse[i]\n",
    "    return diccionari\n",
    "reverse_diccionari(text1)   "
   ]
  },
  {
   "cell_type": "markdown",
   "id": "074f8895",
   "metadata": {},
   "source": [
    "# NIVEL 2"
   ]
  },
  {
   "cell_type": "markdown",
   "id": "a2d98ba4",
   "metadata": {},
   "source": [
    "## Exercici 1"
   ]
  },
  {
   "cell_type": "markdown",
   "id": "54d50a36",
   "metadata": {},
   "source": [
    "Diccionari invers amb duplicats\n",
    "\n",
    "Continuant amb l'exercici 4 del nivell 1: al client es va oblidar de comentar un detall i resulta que els valors en el diccionari original poden duplicar-se i més, per la qual cosa les claus intercanviades poden tenir duplicats. En aquest cas, en l'exercici anterior imprimies un missatge d'advertiment, ara, els valors del diccionari resultant hauran d'emmagatzemar-se com una llista. Tingues en compte que si és un valor únic no ha de ser una llista.\n",
    "\n"
   ]
  },
  {
   "cell_type": "code",
   "execution_count": 10,
   "id": "c7c54860",
   "metadata": {},
   "outputs": [
    {
     "data": {
      "text/plain": [
       "{'apple': 'x', 'banana': ['y', 'z']}"
      ]
     },
     "execution_count": 10,
     "metadata": {},
     "output_type": "execute_result"
    }
   ],
   "source": [
    "text1 = {'x':'apple','y':'banana','z':'banana'}\n",
    "def reverse_diccionari_plus(text):\n",
    "    key_list_reverse = []\n",
    "    value_list_reverse = []\n",
    "    diccionari = {}\n",
    "    key_list_reverse = list(text.values())\n",
    "    posiciones =[]\n",
    "    value_list_reverse = list(text.keys())\n",
    "    \n",
    "    for i in range(0,len(key_list_reverse)):\n",
    "        if key_list_reverse.count(key_list_reverse[i]) > 1: \n",
    "            posicion = value_list_reverse.index(value_list_reverse[i])\n",
    "            posiciones.append(value_list_reverse[posicion])\n",
    "            diccionari[key_list_reverse[i]]= posiciones\n",
    "        else:\n",
    "            diccionari[key_list_reverse[i]] = value_list_reverse[i]  # introduce los valores y los keys mediante las listas creadas\n",
    "    return diccionari\n",
    "reverse_diccionari_plus (text1) "
   ]
  },
  {
   "cell_type": "markdown",
   "id": "d83bf346",
   "metadata": {},
   "source": [
    "## Exercici 2\n",
    "Conversió de tipus de dades\n",
    "\n",
    "El client rep una llista de dades i necessita generar dues llistes, la primera on estaran tots els elements que es van poder convertir en flotants i l'altra on estan els elements que no es van poder convertir. Exemple de la llista que rep el client: [ '1.3', 'one' , '1e10' , 'seven', '3-1/2', ('2',1,1.4,'not-a-number'), [1,2,'3','3.4']]\n",
    "\n",
    "\n",
    "\n"
   ]
  },
  {
   "cell_type": "code",
   "execution_count": 9,
   "id": "65567ad0",
   "metadata": {},
   "outputs": [
    {
     "data": {
      "text/plain": [
       "[[1.3, 10000000000.0, 2.0, 1.0, 1.4, 1.0, 2.0, 3.0, 3.4],\n",
       " ['one', 'seven', '3-1/2', 'not-a-number']]"
      ]
     },
     "execution_count": 9,
     "metadata": {},
     "output_type": "execute_result"
    }
   ],
   "source": [
    "lista1 = ['1.3','one','1e10','seven','3-1/2',('2',1,1.4,'not-a-number'),[1,2,'3','3.4']]\n",
    "\n",
    "def conver_tipo (lista):\n",
    "    flatlist =[]\n",
    "    conver_floats =[]\n",
    "    conver_non_floats =[]\n",
    "    lista_resultado =[]\n",
    "    for element in lista:\n",
    "        if type(element) is list:\n",
    "            for item in element:\n",
    "                flatlist.append(item)\n",
    "        elif type(element) is tuple:\n",
    "            for i in range(len(element)):\n",
    "                flatlist.append(element[i])\n",
    "        else:\n",
    "            flatlist.append(element)\n",
    "            \n",
    "    for i in range(0,len(flatlist)):\n",
    "        try: \n",
    "            decimal = float(flatlist[i])\n",
    "            conver_floats.append(decimal)\n",
    "        \n",
    "        except ValueError:\n",
    "            conver_non_floats.append(flatlist[i])\n",
    "    \n",
    "    lista_resultado.append(conver_floats)\n",
    "    lista_resultado.append(conver_non_floats)\n",
    "    return lista_resultado\n",
    "\n",
    "conver_tipo(lista1)\n"
   ]
  }
 ],
 "metadata": {
  "kernelspec": {
   "display_name": "Python 3 (ipykernel)",
   "language": "python",
   "name": "python3"
  },
  "language_info": {
   "codemirror_mode": {
    "name": "ipython",
    "version": 3
   },
   "file_extension": ".py",
   "mimetype": "text/x-python",
   "name": "python",
   "nbconvert_exporter": "python",
   "pygments_lexer": "ipython3",
   "version": "3.9.13"
  }
 },
 "nbformat": 4,
 "nbformat_minor": 5
}
